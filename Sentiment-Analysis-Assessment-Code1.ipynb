{
 "cells": [
  {
   "cell_type": "markdown",
   "metadata": {},
   "source": [
    "Sentiment Analysis:  vector arithmetic\n",
    "\n",
    "Here we show how using vector arithmetic we can find the results that are close to the aritmetic of the original words.\n"
   ]
  },
  {
   "cell_type": "code",
   "execution_count": 1,
   "metadata": {},
   "outputs": [],
   "source": [
    "import spacy    # Import spaCy.\n",
    "\n",
    "nlp = spacy.load('en_core_web_md')  # Load the word library (the medium one!)"
   ]
  },
  {
   "cell_type": "code",
   "execution_count": 2,
   "metadata": {},
   "outputs": [],
   "source": [
    "# load all the words with vectors into the vocab (otherwise vocab may not work properly for md and lg):\n",
    "for orth in nlp.vocab.vectors:\n",
    "    _ = nlp.vocab[orth]"
   ]
  },
  {
   "cell_type": "code",
   "execution_count": 3,
   "metadata": {},
   "outputs": [
    {
     "name": "stdout",
     "output_type": "stream",
     "text": [
      "human human 1.0\n",
      "human monkey 0.39899942\n",
      "human inteligent 0.45334765\n",
      "monkey human 0.39899942\n",
      "monkey monkey 1.0\n",
      "monkey inteligent 0.22762915\n",
      "inteligent human 0.45334765\n",
      "inteligent monkey 0.22762915\n",
      "inteligent inteligent 1.0\n"
     ]
    }
   ],
   "source": [
    "# Just to see how the similarity of words can be measured based off of their vectors.\n",
    "\n",
    "words = nlp(u'human monkey inteligent')\n",
    "for word1 in words:\n",
    "    for word2 in words:\n",
    "        print(word1, word2, word1.similarity(word2))"
   ]
  },
  {
   "cell_type": "code",
   "execution_count": 27,
   "metadata": {},
   "outputs": [],
   "source": [
    "# We import spatial to define a cosine_similarity function\n",
    "\n",
    "from scipy import spatial\n",
    "\n",
    "cosine_similarity  = lambda x, y: 1 - spatial.distance.cosine(x, y)\n"
   ]
  },
  {
   "cell_type": "code",
   "execution_count": 29,
   "metadata": {
    "scrolled": true
   },
   "outputs": [],
   "source": [
    "# As an example we make calculate an arithmatic as follows, more words and a different \n",
    "\n",
    "def vector_math(words):\n",
    "    \n",
    "    vector1 = nlp.vocab[words[0]].vector\n",
    "    vector2 = nlp.vocab[words[1]].vector\n",
    "    vector3 = nlp.vocab[words[2]].vector\n",
    "    \n",
    "    blend_vector = vector1 - vector2 + vector3\n",
    "    \n",
    "    # We list the top fiftin closest vectors in the vocabulary to the result of the expression above,\n",
    "    # also show the total and valid number of words used from the vocabulary\n",
    "    likliness = []\n",
    "    i = 0\n",
    "    j = 0\n",
    "    for word in nlp.vocab:\n",
    "        i += 1\n",
    "        if word.has_vector:\n",
    "            if word.is_lower:\n",
    "                if word.is_alpha:\n",
    "                    j += 1\n",
    "                    similarity = cosine_similarity(blend_vector, word.vector)\n",
    "                    likliness.append((word, similarity))\n",
    "    \n",
    "    print(f'Total # of words: {i},\\ntotal # of compared words: {j}')\n",
    "    likliness = sorted(likliness, key=lambda item: -item[1])\n",
    "    return likliness"
   ]
  },
  {
   "cell_type": "code",
   "execution_count": 31,
   "metadata": {},
   "outputs": [
    {
     "name": "stdout",
     "output_type": "stream",
     "text": [
      "Total # of words: 684995,\n",
      "total # of compared words: 247539\n",
      "['king', 'queen', 'commoner', 'highness', 'prince', 'sultan', 'maharajas', 'kings', 'princes', 'sultans', 'kumbia', 'princess', 'princesses', 'mermaid', 'pricess']\n"
     ]
    }
   ],
   "source": [
    "\n",
    "words = ['king','man','woman']\n",
    "mylist = vector_math(words)\n",
    "print([pair[0].text for pair in mylist[:15]])\n"
   ]
  },
  {
   "cell_type": "markdown",
   "metadata": {},
   "source": [
    "\n",
    "VADER Sentiment Analysis\n",
    "\n",
    "Now, we are going to show how VADER Sentiment Analysis can be used to define the sentiment of a review\n"
   ]
  },
  {
   "cell_type": "code",
   "execution_count": 32,
   "metadata": {},
   "outputs": [
    {
     "name": "stderr",
     "output_type": "stream",
     "text": [
      "[nltk_data] Downloading package vader_lexicon to\n",
      "[nltk_data]     /Users/apple/nltk_data...\n",
      "[nltk_data]   Package vader_lexicon is already up-to-date!\n"
     ]
    },
    {
     "data": {
      "text/plain": [
       "True"
      ]
     },
     "execution_count": 32,
     "metadata": {},
     "output_type": "execute_result"
    }
   ],
   "source": [
    "import nltk\n",
    "nltk.downloader.download('vader_lexicon')"
   ]
  },
  {
   "cell_type": "code",
   "execution_count": 33,
   "metadata": {},
   "outputs": [],
   "source": [
    "# Import SentimentIntensityAnalyzer and create an instance of it (sid object)\n",
    "\n",
    "from nltk.sentiment.vader import SentimentIntensityAnalyzer\n",
    "\n",
    "sid = SentimentIntensityAnalyzer()\n"
   ]
  },
  {
   "cell_type": "code",
   "execution_count": 34,
   "metadata": {},
   "outputs": [],
   "source": [
    "# This is a sample review\n",
    "\n",
    "review = 'This was the best movie I have ever seen. The sound quality was not that great though, the story and all the other things were awesome. I liked it very much.'"
   ]
  },
  {
   "cell_type": "code",
   "execution_count": 35,
   "metadata": {},
   "outputs": [
    {
     "data": {
      "text/plain": [
       "'Positive'"
      ]
     },
     "execution_count": 35,
     "metadata": {},
     "output_type": "execute_result"
    }
   ],
   "source": [
    "\n",
    "#  A function that takes in our review and returns a score of \"Positive\", \"Negative\" or \"Neutral\"\n",
    "\n",
    "def review_rating(text):\n",
    "    \n",
    "    score = sid.polarity_scores(text)['compound']\n",
    "   \n",
    "    if score > 0.05:\n",
    "        vote = 'Positive'\n",
    "    elif score < -0.05:\n",
    "        vote = 'Negative'\n",
    "    else:\n",
    "        vote = 'Neutral'\n",
    "\n",
    "    return vote\n",
    "\n",
    "# Here we call the function and pass our review to get its sentiment\n",
    "\n",
    "\n",
    "result = review_rating(review)\n",
    "result"
   ]
  }
 ],
 "metadata": {
  "kernelspec": {
   "display_name": "Python 3",
   "language": "python",
   "name": "python3"
  },
  "language_info": {
   "codemirror_mode": {
    "name": "ipython",
    "version": 3
   },
   "file_extension": ".py",
   "mimetype": "text/x-python",
   "name": "python",
   "nbconvert_exporter": "python",
   "pygments_lexer": "ipython3",
   "version": "3.8.5"
  }
 },
 "nbformat": 4,
 "nbformat_minor": 2
}
